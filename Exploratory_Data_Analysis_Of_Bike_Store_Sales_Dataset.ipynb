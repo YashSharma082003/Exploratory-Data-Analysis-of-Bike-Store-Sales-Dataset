{
  "nbformat": 4,
  "nbformat_minor": 0,
  "metadata": {
    "colab": {
      "provenance": [],
      "authorship_tag": "ABX9TyNgYU/HcBHAYFzn5VMmOx0K",
      "include_colab_link": true
    },
    "kernelspec": {
      "name": "python3",
      "display_name": "Python 3"
    },
    "language_info": {
      "name": "python"
    }
  },
  "cells": [
    {
      "cell_type": "markdown",
      "metadata": {
        "id": "view-in-github",
        "colab_type": "text"
      },
      "source": [
        "<a href=\"https://colab.research.google.com/github/YashSharma082003/Exploratory-Data-Analysis-of-Bike-Store-Sales-Dataset/blob/main/Exploratory_Data_Analysis_Of_Bike_Store_Sales_Dataset.ipynb\" target=\"_parent\"><img src=\"https://colab.research.google.com/assets/colab-badge.svg\" alt=\"Open In Colab\"/></a>"
      ]
    },
    {
      "cell_type": "markdown",
      "source": [
        "# Hotel Booking Dataset\n",
        "## Exploratory Data Analysis (EDA)\n",
        "### What is EDA? Why do we do EDA?\n",
        "\n",
        "Exploratory Data Analysis refers to the critical process of performing initial investigations on data to discover patterns, to spot anomalies, test hypotheses and check assumptions with the help of summary statistics and graphical representations.\n",
        "\n",
        "Exploratory Data Analysis (EDA) is an approach to analysing the data using visual techniques. It is used to discover trends, and patterns, or to check assumptions with the help of statistical summaries and graphical representations.\n",
        "\n",
        "### Exploratory Data Analysis involves two fundamental steps:-\n",
        "\n",
        "* Data Analysis(Data Preprocessing, Cleaning and Manipulation).\n",
        "* Data Visualisation(Visualize relationships in data using different types of plots).\n",
        "\n",
        "### About Hotel Dataset\n",
        "\n",
        "This is an Exploratory Analysis of The Bike Store Sales Dataset from [WAFAA SOLIMAN](https://www.kaggle.com/datasets/wafaasoliman/bike-store-sales) on Kaggle\n",
        "\n",
        "The data set that is going to be used is the 'Bike Store Sales Dataset'.It contains Bike Store Sales Data, we are going to clean the data if required and perform Exploratory Data Analysis(EDA). The tools that are going to be used for the EDA would be NumPy, Pandas, Matplotlib, Seaborn and Opendatasets."
      ],
      "metadata": {
        "id": "amdAvGZzO8b0"
      }
    },
    {
      "cell_type": "markdown",
      "source": [
        "### SETTING UP MY ENVIRONMENT\n",
        "\n",
        "Note: Setting up my environment by import `Pandas` , `Numpy` , `Matplotlib` `Seaborn` and `Opendatasets` libraries:-"
      ],
      "metadata": {
        "id": "DZx-pzwZV4-q"
      }
    },
    {
      "cell_type": "code",
      "execution_count": 1,
      "metadata": {
        "id": "JFPY3NqdNR4-"
      },
      "outputs": [],
      "source": [
        "import pandas as pd\n",
        "import numpy as np\n",
        "import matplotlib.pyplot as plt\n",
        "import seaborn as sns"
      ]
    },
    {
      "cell_type": "code",
      "source": [
        "import opendatasets as od\n",
        "dataset = 'https://www.kaggle.com/datasets/wafaasoliman/bike-store-sales'\n",
        "od.download(dataset)\n",
        "data = './bike-store-sales/sales_data.csv'\n",
        "df = pd.read_csv(data)"
      ],
      "metadata": {
        "colab": {
          "base_uri": "https://localhost:8080/"
        },
        "id": "eLPJ04whQiDS",
        "outputId": "6f8f98ca-2f61-4e38-950b-3f111d2d5823"
      },
      "execution_count": 2,
      "outputs": [
        {
          "output_type": "stream",
          "name": "stdout",
          "text": [
            "Skipping, found downloaded files in \"./bike-store-sales\" (use force=True to force download)\n"
          ]
        }
      ]
    },
    {
      "cell_type": "code",
      "source": [],
      "metadata": {
        "id": "9vptFkGFXL8j"
      },
      "execution_count": null,
      "outputs": []
    }
  ]
}